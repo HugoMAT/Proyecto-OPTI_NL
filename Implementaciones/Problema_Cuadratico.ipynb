{
 "cells": [
  {
   "cell_type": "markdown",
   "metadata": {},
   "source": [
    "\n",
    "## Implementación y resolución como problema cuádratico de la formulación dual SVM con holgura y kernel.\n",
    "**Integrantes**\n",
    "> Mario Mallea, Maximiliano Ramírez y Hugo Rocha.\n",
    "\n",
    "**Descripción**\n",
    "> En este cuaderno resolveremos el problema de clasificación via solver cvxopt el problema dual tipo SVM.\n",
    "\n",
    "**Herramientas**\n",
    "> Python version 3.7.9; version 1.2.5 de cvxopt \n",
    "\n"
   ]
  },
  {
   "cell_type": "code",
   "execution_count": 1,
   "metadata": {},
   "outputs": [
    {
     "name": "stdout",
     "output_type": "stream",
     "text": [
      "Python version\n",
      "3.7.9 | packaged by conda-forge | (default, Dec  9 2020, 20:36:16) [MSC v.1916 64 bit (AMD64)]\n",
      "Version info.\n",
      "sys.version_info(major=3, minor=7, micro=9, releaselevel='final', serial=0)\n"
     ]
    }
   ],
   "source": [
    "import sys\n",
    "print(\"Python version\")\n",
    "print (sys.version)\n",
    "print(\"Version info.\")\n",
    "print (sys.version_info)\n"
   ]
  },
  {
   "cell_type": "markdown",
   "metadata": {},
   "source": [
    "version 1.2.5 de cvxopt"
   ]
  },
  {
   "cell_type": "code",
   "execution_count": 2,
   "metadata": {
    "scrolled": true
   },
   "outputs": [
    {
     "name": "stdout",
     "output_type": "stream",
     "text": [
      "Requirement already satisfied: cvxopt in c:\\users\\mario\\miniconda3\\envs\\mario\\lib\\site-packages (1.2.5.post1)\n",
      "Note: you may need to restart the kernel to use updated packages.\n"
     ]
    }
   ],
   "source": [
    "pip install cvxopt"
   ]
  },
  {
   "cell_type": "markdown",
   "metadata": {},
   "source": [
    "Cargamos las librerias a utilizar:"
   ]
  },
  {
   "cell_type": "code",
   "execution_count": 73,
   "metadata": {},
   "outputs": [],
   "source": [
    "import numpy as np\n",
    "import random\n",
    "import pandas as pd\n",
    "from cvxopt import matrix, solvers\n",
    "from sklearn.datasets import load_breast_cancer\n",
    "from datetime import datetime\n",
    "from sklearn.model_selection import train_test_split\n"
   ]
  },
  {
   "cell_type": "markdown",
   "metadata": {},
   "source": [
    "Cargamos los datos del cancer mamario"
   ]
  },
  {
   "cell_type": "code",
   "execution_count": 81,
   "metadata": {},
   "outputs": [],
   "source": [
    "dataframe = load_breast_cancer()\n",
    "df = pd.DataFrame(np.c_[dataframe['data'], dataframe['target']],\n",
    "                  columns= np.append(dataframe['feature_names'], ['target']))\n",
    "\n",
    "data = df.values\n",
    "ix = [i for i in range(data.shape[1]) if i != df.shape[1]-1]\n",
    "X, y = data[:, ix], data[:, df.shape[1]-1]\n",
    "\n",
    "\n",
    "\n",
    "\n",
    "for i in range(y.shape[0]): ## transformamos las etiquetas a clasificar \n",
    "    if y[i]==0: \n",
    "        y[i]=-1 #benigno es -1, maligo se queda con 1\n",
    "        \n",
    "X_train, X_test, y_train, y_test = train_test_split(X, y, test_size=0.3, random_state=42)"
   ]
  },
  {
   "cell_type": "markdown",
   "metadata": {},
   "source": [
    "Definimos diferentes kernels"
   ]
  },
  {
   "cell_type": "code",
   "execution_count": 101,
   "metadata": {},
   "outputs": [],
   "source": [
    "def poly_kernel(x, z, degree, intercept):\n",
    "        return np.power(np.matmul(x, z.T) + intercept, degree)\n",
    "\n",
    "def gaussian_kernel(x, z,sigma):\n",
    "    n = x.shape[0]\n",
    "    m = z.shape[0]\n",
    "    xx = np.dot(np.sum(np.power(x, 2), 1).reshape(n, 1), np.ones((1, m)))\n",
    "    zz = np.dot(np.sum(np.power(z, 2), 1).reshape(m, 1), np.ones((1, n)))     \n",
    "    return np.exp(-(xx + zz.T - 2 * np.dot(x, z.T)) / (2 * sigma ** 2))\n",
    "\n",
    "def linear_kernel(x, z):\n",
    "    return np.matmul(x, z.T)"
   ]
  },
  {
   "cell_type": "markdown",
   "metadata": {},
   "source": [
    "Establecemos el problema como uno progrmación cuadrática y resolvemos con solver obteniendo los multiplicadores de Lagrange:"
   ]
  },
  {
   "cell_type": "code",
   "execution_count": 120,
   "metadata": {},
   "outputs": [],
   "source": [
    "import numpy as np\n",
    "import cvxopt\n",
    "def fit(X, y, kernel, C):\n",
    "    n_samples, n_features = X.shape\n",
    "    K = np.zeros((n_samples, n_samples))\n",
    "    for i in range(n_samples):\n",
    "        for j in range(n_samples):\n",
    "            K[i,j] = kernel(X[i], X[j])\n",
    "            \n",
    "    P = cvxopt.matrix(np.outer(y,y) * K)\n",
    "    q = cvxopt.matrix(np.ones(n_samples) * -1)\n",
    "    A = cvxopt.matrix(y, (1,n_samples))\n",
    "    b = cvxopt.matrix(0.0)\n",
    "    if C is None:      # hard-margin SVM\n",
    "       G = cvxopt.matrix(np.diag(np.ones(n_samples) * -1))\n",
    "       h = cvxopt.matrix(np.zeros(n_samples))\n",
    "    else:              # soft-margin SVM\n",
    "       G = cvxopt.matrix(np.vstack((np.diag(np.ones(n_samples) * -1), np.identity(n_samples))))\n",
    "       h = cvxopt.matrix(np.hstack((np.zeros(n_samples), np.ones(n_samples) * C)))\n",
    "    # Resuelve problema cuadrático QP\n",
    "    solution = cvxopt.solvers.qp(P, q, G, h, A, b)\n",
    "    print(solution)\n",
    "    # multiplicadores\n",
    "    a = np.ravel(solution['x'])\n",
    "    # vectores de soporte con multiplicadores de lagrange no nulos\n",
    "    \n",
    "    return a\n",
    "    "
   ]
  },
  {
   "cell_type": "markdown",
   "metadata": {},
   "source": [
    "Establecemos un criterio de convergencia y predecimos"
   ]
  },
  {
   "cell_type": "code",
   "execution_count": 121,
   "metadata": {
    "scrolled": true
   },
   "outputs": [
    {
     "name": "stdout",
     "output_type": "stream",
     "text": [
      "     pcost       dcost       gap    pres   dres\n",
      " 0:  5.0903e+03 -2.1362e+06  5e+06  6e-01  4e-07\n",
      " 1:  9.9345e+03 -8.1552e+05  1e+06  2e-01  3e-07\n",
      " 2:  8.7265e+03 -4.3656e+05  7e+05  7e-02  2e-07\n",
      " 3:  4.6473e+03 -1.6971e+05  2e+05  2e-02  1e-07\n",
      " 4:  2.1750e+03 -6.9113e+04  9e+04  5e-03  1e-07\n",
      " 5: -3.4831e+01 -1.9138e+04  2e+04  7e-04  1e-07\n",
      " 6: -8.9233e+02 -6.8594e+03  6e+03  1e-04  1e-07\n",
      " 7: -1.2031e+03 -4.8062e+03  4e+03  4e-05  1e-07\n",
      " 8: -1.3424e+03 -4.7165e+03  3e+03  4e-05  1e-07\n",
      " 9: -1.3986e+03 -4.1099e+03  3e+03  1e-05  2e-07\n",
      "10: -1.6384e+03 -3.2267e+03  2e+03  6e-06  1e-07\n",
      "11: -1.6918e+03 -2.7392e+03  1e+03  2e-06  2e-07\n",
      "12: -1.8038e+03 -2.5178e+03  7e+02  8e-07  2e-07\n",
      "13: -1.9033e+03 -2.1932e+03  3e+02  8e-14  2e-07\n",
      "14: -1.9623e+03 -2.0995e+03  1e+02  7e-14  2e-07\n",
      "15: -2.0125e+03 -2.0181e+03  6e+00  6e-14  2e-07\n",
      "16: -2.0146e+03 -2.0147e+03  1e-01  3e-13  2e-07\n",
      "17: -2.0146e+03 -2.0146e+03  1e-03  2e-13  2e-07\n",
      "18: -2.0146e+03 -2.0146e+03  1e-05  8e-14  2e-07\n",
      "19: -2.0146e+03 -2.0146e+03  1e-07  3e-13  2e-07\n",
      "20: -2.0146e+03 -2.0146e+03  1e-09  2e-13  2e-07\n",
      "21: -2.0146e+03 -2.0146e+03  1e-11  6e-14  2e-07\n",
      "22: -2.0146e+03 -2.0146e+03  1e-13  1e-13  1e-07\n",
      "23: -2.0146e+03 -2.0146e+03  1e-15  1e-13  1e-07\n",
      "Optimal solution found.\n",
      "{'x': <398x1 matrix, tc='d'>, 'y': <1x1 matrix, tc='d'>, 's': <796x1 matrix, tc='d'>, 'z': <796x1 matrix, tc='d'>, 'status': 'optimal', 'gap': 1.2359735101225914e-15, 'relative gap': 6.1349878304546535e-19, 'primal objective': -2014.630744639954, 'dual objective': -2014.6307446399503, 'primal infeasibility': 1.278989941919641e-13, 'dual infeasibility': 9.652814647346847e-08, 'primal slack': 1.649670234524894e-20, 'dual slack': 3.9505410921289305e-21, 'iterations': 23}\n"
     ]
    }
   ],
   "source": [
    "a= fit(X_train, y_train, linear_kernel, 100)\n",
    "ind = (a > 1e-4).flatten()\n",
    "sv = X_train[ind]\n",
    "sv_y = y_train[ind]\n",
    "alphas = a[ind]\n",
    "\n"
   ]
  },
  {
   "cell_type": "code",
   "execution_count": 122,
   "metadata": {},
   "outputs": [
    {
     "data": {
      "text/plain": [
       "array([[ 62,   1],\n",
       "       [  4, 104]], dtype=int64)"
      ]
     },
     "execution_count": 122,
     "metadata": {},
     "output_type": "execute_result"
    }
   ],
   "source": [
    "b = sv_y - np.sum(linear_kernel(sv, sv) * alphas * sv_y, axis=0)\n",
    "b = np.sum(b) / b.size\n",
    "\n",
    "predictions=[]\n",
    "for i in range(X_test.shape[0]):\n",
    "    prod=np.sum(linear_kernel(sv, X_test[i,:]).T * alphas * sv_y, axis=0) + b\n",
    "    predictions.append(np.sign(prod))\n",
    "    \n",
    "from sklearn.metrics import confusion_matrix\n",
    "confusion_matrix(y_test, predictions)"
   ]
  },
  {
   "cell_type": "markdown",
   "metadata": {},
   "source": [
    "Fabricamos Data artificial con 2500 nuevos casos."
   ]
  },
  {
   "cell_type": "code",
   "execution_count": 25,
   "metadata": {},
   "outputs": [],
   "source": [
    "df_copiado=df.copy()"
   ]
  },
  {
   "cell_type": "code",
   "execution_count": 32,
   "metadata": {},
   "outputs": [
    {
     "name": "stdout",
     "output_type": "stream",
     "text": [
      "Wall time: 14.9 s\n"
     ]
    }
   ],
   "source": [
    "%%time\n",
    "n_datos= 2500\n",
    "\n",
    "df_maligno = df_copiado[df_copiado[\"target\"]==1]\n",
    "for i in range(n_datos):\n",
    "    l=[]\n",
    "    for j in df_copiado.columns[:-1]:\n",
    "        l.append(random.uniform(df_maligno[j].min(), df_maligno[j].max()))\n",
    "    df.loc[i+569,:]= l+[1]"
   ]
  },
  {
   "cell_type": "code",
   "execution_count": 34,
   "metadata": {},
   "outputs": [
    {
     "name": "stdout",
     "output_type": "stream",
     "text": [
      "Wall time: 14.5 s\n"
     ]
    }
   ],
   "source": [
    "%%time\n",
    "n_datos= 2500\n",
    "n_datos_original_maligno=df.shape[0]\n",
    "df_benigno = df_copiado[df_copiado[\"target\"]==-1]\n",
    "for i in range(n_datos):\n",
    "    l=[]\n",
    "    for j in df_copiado.columns[:-1]:\n",
    "        l.append(random.uniform(df_benigno[j].min(), df_benigno[j].max()))\n",
    "    df.loc[i+n_datos_original_maligno,:]= l+[-1]"
   ]
  },
  {
   "cell_type": "code",
   "execution_count": 36,
   "metadata": {},
   "outputs": [],
   "source": [
    "df.to_csv(r'C:\\Users\\Mario\\python\\machine_learning\\cancer_artificial_equilibrado.csv', index = False)"
   ]
  },
  {
   "cell_type": "code",
   "execution_count": 38,
   "metadata": {},
   "outputs": [],
   "source": [
    "big_data= pd.read_csv(\"cancer_artificial_equilibrado.csv\")"
   ]
  },
  {
   "cell_type": "code",
   "execution_count": 50,
   "metadata": {},
   "outputs": [],
   "source": [
    "data = big_data.values\n",
    "ix = [i for i in range(data.shape[1]) if i != big_data.shape[1]-1]\n",
    "X, y = data[150:, ix], data[150:, big_data.shape[1]-1]\n"
   ]
  },
  {
   "cell_type": "code",
   "execution_count": 52,
   "metadata": {
    "scrolled": false
   },
   "outputs": [
    {
     "name": "stdout",
     "output_type": "stream",
     "text": [
      "Inicio = 17:25:58\n",
      "     pcost       dcost       gap    pres   dres\n",
      " 0: -4.0250e+02 -5.8252e+03  6e+04  6e+00  2e-07\n",
      " 1: -1.9854e+02 -4.2280e+03  1e+04  8e-01  2e-07\n",
      " 2: -1.0914e+02 -1.3555e+03  2e+03  1e-01  1e-07\n",
      " 3: -7.4691e+01 -6.5493e+02  9e+02  6e-02  6e-08\n",
      " 4: -6.1814e+01 -4.5545e+02  6e+02  4e-02  5e-08\n",
      " 5: -5.4682e+01 -3.4878e+02  5e+02  3e-02  4e-08\n",
      " 6: -4.8808e+01 -2.7485e+02  4e+02  2e-02  4e-08\n",
      " 7: -4.4812e+01 -2.1543e+02  3e+02  1e-02  3e-08\n",
      " 8: -4.2240e+01 -1.7313e+02  2e+02  9e-03  3e-08\n",
      " 9: -4.0091e+01 -1.4447e+02  2e+02  7e-03  3e-08\n",
      "10: -3.8860e+01 -1.2579e+02  1e+02  5e-03  2e-08\n",
      "11: -3.7688e+01 -1.1072e+02  1e+02  4e-03  2e-08\n",
      "12: -3.6912e+01 -8.3087e+01  7e+01  2e-03  3e-08\n",
      "13: -3.6420e+01 -6.9239e+01  5e+01  1e-03  2e-08\n",
      "14: -3.6133e+01 -5.2326e+01  2e+01  3e-04  3e-08\n",
      "15: -3.5765e+01 -5.0133e+01  2e+01  2e-04  3e-08\n",
      "16: -3.5943e+01 -4.9157e+01  2e+01  2e-04  2e-08\n",
      "17: -3.5753e+01 -4.8364e+01  1e+01  9e-05  2e-08\n",
      "18: -3.6898e+01 -4.5493e+01  9e+00  5e-05  3e-08\n",
      "19: -3.6917e+01 -4.4778e+01  8e+00  4e-05  2e-08\n",
      "20: -3.7394e+01 -4.3589e+01  6e+00  2e-05  3e-08\n",
      "21: -3.7499e+01 -4.3432e+01  6e+00  2e-05  2e-08\n",
      "22: -3.7769e+01 -4.2931e+01  5e+00  2e-05  2e-08\n",
      "23: -3.8132e+01 -4.2122e+01  4e+00  5e-06  3e-08\n",
      "24: -3.8567e+01 -4.1323e+01  3e+00  2e-06  3e-08\n",
      "25: -3.8650e+01 -4.1135e+01  2e+00  1e-06  3e-08\n",
      "26: -3.8952e+01 -4.0702e+01  2e+00  3e-07  3e-08\n",
      "27: -3.9519e+01 -4.0000e+01  5e-01  7e-08  3e-08\n",
      "28: -3.9710e+01 -3.9766e+01  6e-02  7e-09  3e-08\n",
      "29: -3.9730e+01 -3.9743e+01  1e-02  1e-09  3e-08\n",
      "30: -3.9736e+01 -3.9736e+01  4e-04  2e-11  3e-08\n",
      "31: -3.9736e+01 -3.9736e+01  4e-06  2e-13  3e-08\n",
      "Optimal solution found.\n",
      "{'x': <5419x1 matrix, tc='d'>, 'y': <1x1 matrix, tc='d'>, 's': <10838x1 matrix, tc='d'>, 'z': <10838x1 matrix, tc='d'>, 'status': 'optimal', 'gap': 3.9388564931245665e-06, 'relative gap': 9.912620831273176e-08, 'primal objective': -39.735772810939444, 'dual objective': -39.73577674847515, 'primal infeasibility': 1.523301645680975e-13, 'dual infeasibility': 3.3658954938546846e-08, 'primal slack': 1.9420260867602187e-11, 'dual slack': 7.21007932556304e-10, 'iterations': 31}\n",
      "Final = 17:30:16\n"
     ]
    }
   ],
   "source": [
    "now = datetime.now()\n",
    "current_time = now.strftime(\"%H:%M:%S\")\n",
    "print(\"Inicio =\", current_time)\n",
    "\n",
    "a= fit(X, y, linear_kernel, 0.5)\n",
    "ind = (a > 1e-4).flatten()\n",
    "sv = X[ind]\n",
    "sv_y = y[ind]\n",
    "alphas = a[ind]\n",
    "\n",
    "#Calcular bias\n",
    "b = sv_y - np.sum(linear_kernel(sv, sv) * alphas * sv_y, axis=0)\n",
    "b = np.sum(b) / b.size\n",
    "\n",
    "prod = np.sum(linear_kernel(sv, X).T * alphas * sv_y, axis=0) + b\n",
    "predictions = np.sign(prod)\n",
    "\n",
    "now = datetime.now()\n",
    "current_time = now.strftime(\"%H:%M:%S\")\n",
    "print(\"Final =\", current_time)\n"
   ]
  },
  {
   "cell_type": "code",
   "execution_count": 62,
   "metadata": {},
   "outputs": [
    {
     "data": {
      "text/plain": [
       "array([[28, 55],\n",
       "       [25, 42]], dtype=int64)"
      ]
     },
     "execution_count": 62,
     "metadata": {},
     "output_type": "execute_result"
    }
   ],
   "source": [
    "b = sv_y - np.sum(linear_kernel(sv, sv) * alphas * sv_y, axis=0)\n",
    "b = np.sum(b) / b.size\n",
    "\n",
    "predictions=[]\n",
    "for i in range(150):\n",
    "    prod=np.sum(linear_kernel(sv, X[i,:]).T * alphas * sv_y, axis=0) + b\n",
    "    predictions.append(np.sign(prod))\n",
    "    \n",
    "from sklearn.metrics import confusion_matrix\n",
    "y_true = data[:150, big_data.shape[1]-1]\n",
    "confusion_matrix(y_true, predictions)"
   ]
  }
 ],
 "metadata": {
  "kernelspec": {
   "display_name": "Python 3",
   "language": "python",
   "name": "python3"
  },
  "language_info": {
   "codemirror_mode": {
    "name": "ipython",
    "version": 3
   },
   "file_extension": ".py",
   "mimetype": "text/x-python",
   "name": "python",
   "nbconvert_exporter": "python",
   "pygments_lexer": "ipython3",
   "version": "3.7.9"
  }
 },
 "nbformat": 4,
 "nbformat_minor": 4
}
