{
 "cells": [
  {
   "cell_type": "markdown",
   "metadata": {},
   "source": [
    "\n",
    "## Implementación y resolución como problema cuádratico de la formulación dual SVM con holgura y kernel.\n",
    "**Integrantes**\n",
    "> Mario Mallea, Maximiliano Ramírez y Hugo Rocha.\n",
    "\n",
    "**Descripción**\n",
    "> En este cuaderno resolveremos el problema de clasificación via solver cvxopt el problema dual tipo SVM.\n",
    "\n",
    "**Herramientas**\n",
    "> Python version 3.7.9; version 1.2.5 de cvxopt \n",
    "\n"
   ]
  },
  {
   "cell_type": "code",
   "execution_count": 54,
   "metadata": {},
   "outputs": [
    {
     "name": "stdout",
     "output_type": "stream",
     "text": [
      "Python version\n",
      "3.8.5 (default, Sep  3 2020, 21:29:08) [MSC v.1916 64 bit (AMD64)]\n",
      "Version info.\n",
      "sys.version_info(major=3, minor=8, micro=5, releaselevel='final', serial=0)\n"
     ]
    }
   ],
   "source": [
    "import sys\n",
    "print(\"Python version\")\n",
    "print (sys.version)\n",
    "print(\"Version info.\")\n",
    "print (sys.version_info)\n"
   ]
  },
  {
   "cell_type": "markdown",
   "metadata": {},
   "source": [
    "version 1.2.5 de cvxopt"
   ]
  },
  {
   "cell_type": "code",
   "execution_count": 55,
   "metadata": {
    "scrolled": true
   },
   "outputs": [
    {
     "name": "stdout",
     "output_type": "stream",
     "text": [
      "Requirement already satisfied: cvxopt in c:\\users\\holck\\anaconda3\\lib\\site-packages (1.2.5.post1)\n",
      "Note: you may need to restart the kernel to use updated packages.\n"
     ]
    }
   ],
   "source": [
    "pip install cvxopt"
   ]
  },
  {
   "cell_type": "markdown",
   "metadata": {},
   "source": [
    "Cargamos las librerias a utilizar:"
   ]
  },
  {
   "cell_type": "code",
   "execution_count": 56,
   "metadata": {},
   "outputs": [],
   "source": [
    "import numpy as np\n",
    "import random\n",
    "import pandas as pd\n",
    "from cvxopt import matrix, solvers\n",
    "from sklearn.datasets import load_breast_cancer\n",
    "from datetime import datetime\n",
    "from sklearn.model_selection import train_test_split\n",
    "import seaborn as sn\n",
    "import matplotlib.pyplot as plt\n"
   ]
  },
  {
   "cell_type": "markdown",
   "metadata": {},
   "source": [
    "Cargamos los datos del cancer mamario"
   ]
  },
  {
   "cell_type": "code",
   "execution_count": 57,
   "metadata": {},
   "outputs": [],
   "source": [
    "dataframe = load_breast_cancer()\n",
    "df = pd.DataFrame(np.c_[dataframe['data'], dataframe['target']],\n",
    "                  columns= np.append(dataframe['feature_names'], ['target']))\n",
    "\n",
    "data = df.values\n",
    "ix = [i for i in range(data.shape[1]) if i != df.shape[1]-1]\n",
    "X, y = data[:, ix], data[:, df.shape[1]-1]\n",
    "\n",
    "\n",
    "\n",
    "\n",
    "for i in range(y.shape[0]): ## transformamos las etiquetas a clasificar \n",
    "    if y[i]==0: \n",
    "        y[i]=-1 #benigno es -1, maligo se queda con 1\n",
    "        \n",
    "X_train, X_test, y_train, y_test = train_test_split(X, y, test_size=0.3, random_state=42)"
   ]
  },
  {
   "cell_type": "markdown",
   "metadata": {},
   "source": [
    "Definimos diferentes kernels"
   ]
  },
  {
   "cell_type": "code",
   "execution_count": 58,
   "metadata": {},
   "outputs": [],
   "source": [
    "def poly_kernel(x, z, degree, intercept):\n",
    "        return np.power(np.matmul(x, z.T) + intercept, degree)\n",
    "\n",
    "def gaussian_kernel(x, z):\n",
    "    sigma = 1/((len(df.columns)-1)*X.var()) # por defecto en sktlearn\n",
    "    return np.exp(-np.sum((x-z)**2)/(2*sigma**2))\n",
    "\n",
    "def linear_kernel(x, z):\n",
    "    return np.matmul(x, z.T)"
   ]
  },
  {
   "cell_type": "markdown",
   "metadata": {},
   "source": [
    "Establecemos el problema como uno progrmación cuadrática y resolvemos con solver obteniendo los multiplicadores de Lagrange:"
   ]
  },
  {
   "cell_type": "code",
   "execution_count": 59,
   "metadata": {},
   "outputs": [],
   "source": [
    "import numpy as np\n",
    "import cvxopt\n",
    "def fit(X, y, kernel, C):\n",
    "    n_samples, n_features = X.shape\n",
    "    K = np.zeros((n_samples, n_samples))\n",
    "    for i in range(n_samples):\n",
    "        for j in range(n_samples):\n",
    "            K[i,j] = kernel(X[i], X[j])\n",
    "            \n",
    "    P = cvxopt.matrix(np.outer(y,y) * K)\n",
    "    q = cvxopt.matrix(np.ones(n_samples) * -1)\n",
    "    A = cvxopt.matrix(y, (1,n_samples))\n",
    "    b = cvxopt.matrix(0.0)\n",
    "    if C is None:      # hard-margin SVM\n",
    "       G = cvxopt.matrix(np.diag(np.ones(n_samples) * -1))\n",
    "       h = cvxopt.matrix(np.zeros(n_samples))\n",
    "    else:              # soft-margin SVM\n",
    "       G = cvxopt.matrix(np.vstack((np.diag(np.ones(n_samples) * -1), np.identity(n_samples))))\n",
    "       h = cvxopt.matrix(np.hstack((np.zeros(n_samples), np.ones(n_samples) * C)))\n",
    "    # Resuelve problema cuadrático QP\n",
    "    solution = cvxopt.solvers.qp(P, q, G, h, A, b)\n",
    "    print(solution)\n",
    "    # multiplicadores\n",
    "    a = np.ravel(solution['x'])\n",
    "    # vectores de soporte con multiplicadores de lagrange no nulos\n",
    "    \n",
    "    return a\n",
    "    "
   ]
  },
  {
   "cell_type": "markdown",
   "metadata": {},
   "source": [
    "Establecemos un criterio de convergencia y predecimos"
   ]
  },
  {
   "cell_type": "markdown",
   "metadata": {},
   "source": [
    "# Caso Kernel Lineal y reguralización =100"
   ]
  },
  {
   "cell_type": "code",
   "execution_count": 60,
   "metadata": {},
   "outputs": [
    {
     "name": "stdout",
     "output_type": "stream",
     "text": [
      "     pcost       dcost       gap    pres   dres\n",
      " 0:  5.0903e+03 -2.1362e+06  5e+06  6e-01  8e-07\n",
      " 1:  9.9345e+03 -8.1552e+05  1e+06  2e-01  4e-07\n",
      " 2:  8.7265e+03 -4.3656e+05  7e+05  7e-02  3e-07\n",
      " 3:  4.6473e+03 -1.6971e+05  2e+05  2e-02  2e-07\n",
      " 4:  2.1750e+03 -6.9113e+04  9e+04  5e-03  1e-07\n",
      " 5: -3.4831e+01 -1.9138e+04  2e+04  7e-04  1e-07\n",
      " 6: -8.9233e+02 -6.8594e+03  6e+03  1e-04  1e-07\n",
      " 7: -1.2031e+03 -4.8062e+03  4e+03  4e-05  2e-07\n",
      " 8: -1.3424e+03 -4.7165e+03  3e+03  4e-05  2e-07\n",
      " 9: -1.3986e+03 -4.1099e+03  3e+03  1e-05  2e-07\n",
      "10: -1.6384e+03 -3.2267e+03  2e+03  6e-06  2e-07\n",
      "11: -1.6918e+03 -2.7392e+03  1e+03  2e-06  2e-07\n",
      "12: -1.8038e+03 -2.5178e+03  7e+02  8e-07  2e-07\n",
      "13: -1.9033e+03 -2.1932e+03  3e+02  2e-13  2e-07\n",
      "14: -1.9623e+03 -2.0995e+03  1e+02  3e-14  2e-07\n",
      "15: -2.0125e+03 -2.0181e+03  6e+00  3e-14  3e-07\n",
      "16: -2.0146e+03 -2.0147e+03  1e-01  5e-13  3e-07\n",
      "17: -2.0146e+03 -2.0146e+03  1e-03  1e-14  3e-07\n",
      "18: -2.0146e+03 -2.0146e+03  1e-05  3e-13  2e-07\n",
      "19: -2.0146e+03 -2.0146e+03  1e-07  5e-13  3e-07\n",
      "20: -2.0146e+03 -2.0146e+03  1e-09  2e-13  3e-07\n",
      "21: -2.0146e+03 -2.0146e+03  1e-11  7e-14  2e-07\n",
      "22: -2.0146e+03 -2.0146e+03  1e-13  6e-14  2e-07\n",
      "23: -2.0146e+03 -2.0146e+03  1e-15  3e-14  1e-07\n",
      "24: -2.0146e+03 -2.0146e+03  1e-17  1e-13  1e-07\n",
      "25: -2.0146e+03 -2.0146e+03  1e-19  9e-14  1e-07\n",
      "26: -2.0146e+03 -2.0146e+03  1e-21  3e-14  1e-07\n",
      "27: -2.0146e+03 -2.0146e+03  1e-23  2e-16  1e-07\n",
      "28: -2.0146e+03 -2.0146e+03  1e-25  1e-13  1e-07\n",
      "29: -2.0146e+03 -2.0146e+03  1e-27  2e-16  1e-07\n",
      "30: -2.0146e+03 -2.0146e+03  1e-29  1e-14  1e-07\n",
      "31: -2.0146e+03 -2.0146e+03  1e-31  6e-14  1e-07\n",
      "32: -2.0146e+03 -2.0146e+03  1e-33  3e-14  1e-07\n",
      "33: -2.0146e+03 -2.0146e+03  1e-35  1e-14  1e-07\n",
      "34: -2.0146e+03 -2.0146e+03  1e-37  4e-14  1e-07\n",
      "35: -2.0146e+03 -2.0146e+03  1e-39  3e-14  1e-07\n",
      "36: -2.0146e+03 -2.0146e+03  1e-41  1e-13  1e-07\n",
      "37: -2.0146e+03 -2.0146e+03  1e-43  9e-14  1e-07\n",
      "38: -2.0146e+03 -2.0146e+03  1e-45  4e-14  1e-07\n",
      "39: -2.0146e+03 -2.0146e+03  1e-47  4e-14  1e-07\n",
      "40: -2.0146e+03 -2.0146e+03  1e-49  9e-14  1e-07\n",
      "41: -2.0146e+03 -2.0146e+03  1e-51  1e-13  1e-07\n",
      "42: -2.0146e+03 -2.0146e+03  1e-53  2e-13  1e-07\n",
      "43: -2.0146e+03 -2.0146e+03  1e-55  1e-13  1e-07\n",
      "44: -2.0146e+03 -2.0146e+03  1e-57  1e-14  1e-07\n",
      "45: -2.0146e+03 -2.0146e+03  1e-59  7e-14  1e-07\n",
      "46: -2.0146e+03 -2.0146e+03  1e-61  6e-14  1e-07\n",
      "47: -2.0146e+03 -2.0146e+03  1e-63  6e-14  1e-07\n",
      "48: -2.0146e+03 -2.0146e+03  1e-65  3e-14  1e-07\n",
      "49: -2.0146e+03 -2.0146e+03  1e-67  3e-14  1e-07\n",
      "50: -2.0146e+03 -2.0146e+03  1e-69  6e-14  1e-07\n",
      "51: -2.0146e+03 -2.0146e+03  1e-71  4e-14  1e-07\n",
      "52: -2.0146e+03 -2.0146e+03  1e-73  3e-14  1e-07\n",
      "53: -2.0146e+03 -2.0146e+03  1e-75  3e-14  1e-07\n",
      "54: -2.0146e+03 -2.0146e+03  1e-77  1e-14  1e-07\n",
      "55: -2.0146e+03 -2.0146e+03  1e-79  2e-16  1e-07\n",
      "56: -2.0146e+03 -2.0146e+03  1e-81  3e-14  1e-07\n",
      "57: -2.0146e+03 -2.0146e+03  1e-83  3e-14  1e-07\n",
      "58: -2.0146e+03 -2.0146e+03  1e-85  9e-14  1e-07\n",
      "59: -2.0146e+03 -2.0146e+03  1e-87  1e-14  1e-07\n",
      "60: -2.0146e+03 -2.0146e+03  1e-89  7e-14  1e-07\n",
      "61: -2.0146e+03 -2.0146e+03  1e-91  9e-14  1e-07\n",
      "62: -2.0146e+03 -2.0146e+03  1e-93  7e-14  1e-07\n",
      "63: -2.0146e+03 -2.0146e+03  1e-95  2e-16  1e-07\n",
      "64: -2.0146e+03 -2.0146e+03  1e-97  4e-14  1e-07\n",
      "65: -2.0146e+03 -2.0146e+03  1e-99  1e-13  1e-07\n",
      "66: -2.0146e+03 -2.0146e+03  1e-101  2e-13  1e-07\n",
      "67: -2.0146e+03 -2.0146e+03  1e-103  2e-13  1e-07\n",
      "68: -2.0146e+03 -2.0146e+03  1e-105  1e-13  1e-07\n",
      "69: -2.0146e+03 -2.0146e+03  1e-107  3e-14  1e-07\n",
      "70: -2.0146e+03 -2.0146e+03  1e-109  4e-14  1e-07\n",
      "71: -2.0146e+03 -2.0146e+03  1e-111  6e-14  1e-07\n",
      "72: -2.0146e+03 -2.0146e+03  1e-113  2e-16  1e-07\n",
      "73: -2.0146e+03 -2.0146e+03  1e-115  1e-14  1e-07\n",
      "74: -2.0146e+03 -2.0146e+03  1e-117  3e-14  1e-07\n",
      "75: -2.0146e+03 -2.0146e+03  1e-119  1e-13  1e-07\n",
      "76: -2.0146e+03 -2.0146e+03  1e-121  1e-13  1e-07\n",
      "77: -2.0146e+03 -2.0146e+03  1e-123  1e-13  1e-07\n",
      "78: -2.0146e+03 -2.0146e+03  1e-125  1e-13  1e-07\n",
      "79: -2.0146e+03 -2.0146e+03  1e-127  6e-14  1e-07\n",
      "80: -2.0146e+03 -2.0146e+03  1e-129  6e-14  1e-07\n",
      "81: -2.0146e+03 -2.0146e+03  1e-131  9e-14  1e-07\n",
      "82: -2.0146e+03 -2.0146e+03  1e-133  1e-13  1e-07\n",
      "83: -2.0146e+03 -2.0146e+03  1e-135  1e-13  1e-07\n",
      "84: -2.0146e+03 -2.0146e+03  1e-137  1e-14  1e-07\n",
      "85: -2.0146e+03 -2.0146e+03  1e-139  1e-14  1e-07\n",
      "86: -2.0146e+03 -2.0146e+03  1e-141  1e-13  1e-07\n",
      "87: -2.0146e+03 -2.0146e+03  1e-143  4e-14  1e-07\n",
      "88: -2.0146e+03 -2.0146e+03  1e-145  1e-13  1e-07\n",
      "89: -2.0146e+03 -2.0146e+03  1e-147  1e-14  1e-07\n",
      "90: -2.0146e+03 -2.0146e+03  1e-149  6e-14  1e-07\n",
      "91: -2.0146e+03 -2.0146e+03  1e-151  9e-14  1e-07\n",
      "92: -2.0146e+03 -2.0146e+03  1e-153  2e-16  1e-07\n",
      "93: -2.0146e+03 -2.0146e+03  1e-155  9e-14  1e-07\n",
      "94: -2.0146e+03 -2.0146e+03  1e-157  1e-13  1e-07\n",
      "95: -2.0146e+03 -2.0146e+03  1e-159  3e-14  1e-07\n",
      "96: -2.0146e+03 -2.0146e+03  1e-161  6e-14  1e-07\n",
      "97: -2.0146e+03 -2.0146e+03  1e-163  3e-14  1e-07\n",
      "98: -2.0146e+03 -2.0146e+03  1e-165  3e-14  1e-07\n",
      "99: -2.0146e+03 -2.0146e+03  1e-167  4e-14  1e-07\n",
      "100: -2.0146e+03 -2.0146e+03  1e-169  1e-13  1e-07\n",
      "Terminated (maximum number of iterations reached).\n",
      "{'x': <398x1 matrix, tc='d'>, 'y': <1x1 matrix, tc='d'>, 's': <796x1 matrix, tc='d'>, 'z': <796x1 matrix, tc='d'>, 'status': 'unknown', 'gap': 1.2359017701719729e-169, 'relative gap': 6.134631693890998e-173, 'primal objective': -2014.630758359481, 'dual objective': -2014.630758359477, 'primal infeasibility': 1.4210854715202004e-13, 'dual infeasibility': 1.2508757098804074e-07, 'primal slack': 1.6496527950285574e-174, 'dual slack': 3.9505404022930746e-175, 'iterations': 100}\n"
     ]
    }
   ],
   "source": [
    "a= fit(X_train, y_train, linear_kernel, 100)\n",
    "ind = (a > 1e-4).flatten()\n",
    "sv = X_train[ind]\n",
    "sv_y = y_train[ind]\n",
    "alphas = a[ind]\n",
    "\n"
   ]
  },
  {
   "cell_type": "code",
   "execution_count": 61,
   "metadata": {},
   "outputs": [
    {
     "data": {
      "image/png": "[encoded data removed]",
      "text/plain": [
       "<Figure size 720x576 with 2 Axes>"
      ]
     },
     "metadata": {},
     "output_type": "display_data"
    }
   ],
   "source": [
    "b = sv_y - np.sum(linear_kernel(sv, sv) * alphas * sv_y, axis=0)\n",
    "b = np.sum(b) / b.size\n",
    "\n",
    "predictions=[]\n",
    "for i in range(X_test.shape[0]):\n",
    "    prod=np.sum(linear_kernel(sv, X_test[i,:]).T * alphas * sv_y, axis=0) + b\n",
    "    predictions.append(np.sign(prod))\n",
    "    \n",
    "from sklearn.metrics import confusion_matrix\n",
    "cm=confusion_matrix(y_test, predictions)\n",
    "df_cm = pd.DataFrame(cm, range(2), range(2))\n",
    "df_cm.columns=['benigno','maligno']\n",
    "from mpl_heatmap import heatmap, annotate_heatmap #Reciclo un mapa de calor ocupado por usted en una de sus clases \n",
    "fig, ax = plt.subplots(figsize=(10, 8))\n",
    "im, cbar = heatmap(\n",
    "    df_cm, # valores\n",
    "    df_cm.columns, # filas\n",
    "    df_cm.columns, # columnas\n",
    "    ax=ax, # ventana\n",
    "    cmap=plt.cm.Blues,  # gama de colores\n",
    "    #cbarlabel=\"indice\" # nombre barra de colores\n",
    ")\n",
    "texts = annotate_heatmap(im, valfmt=\"{x:.2f} \")\n",
    "fig.tight_layout()\n",
    "plt.title('Caso Kernel Lineal y regularización')\n",
    "plt.show()"
   ]
  },
  {
   "cell_type": "markdown",
   "metadata": {},
   "source": [
    "# Caso Kernel Gaussiano y regularización =100"
   ]
  },
  {
   "cell_type": "code",
   "execution_count": 62,
   "metadata": {},
   "outputs": [
    {
     "name": "stdout",
     "output_type": "stream",
     "text": [
      "     pcost       dcost       gap    pres   dres\n",
      " 0:  1.9876e+05 -5.0319e+05  7e+05  1e-12  2e-14\n",
      " 1:  3.8519e+04 -5.2991e+04  9e+04  4e-12  8e-15\n",
      " 2:  4.8933e+03 -8.3004e+03  1e+04  3e-12  4e-15\n",
      " 3:  3.5535e+02 -1.4629e+03  2e+03  7e-13  8e-16\n",
      " 4: -1.5384e+02 -3.8630e+02  2e+02  3e-13  1e-16\n",
      " 5: -1.8615e+02 -2.0194e+02  2e+01  3e-13  9e-17\n",
      " 6: -1.8644e+02 -1.8662e+02  2e-01  3e-14  6e-17\n",
      " 7: -1.8644e+02 -1.8644e+02  2e-03  1e-13  7e-17\n",
      " 8: -1.8644e+02 -1.8644e+02  2e-05  1e-13  4e-17\n",
      "Optimal solution found.\n",
      "{'x': <398x1 matrix, tc='d'>, 'y': <1x1 matrix, tc='d'>, 's': <796x1 matrix, tc='d'>, 'z': <796x1 matrix, tc='d'>, 'status': 'optimal', 'gap': 1.8238246478074516e-05, 'relative gap': 9.7825154285244e-08, 'primal objective': -186.43718592964777, 'dual objective': -186.4372041678942, 'primal infeasibility': 1.1612932837579137e-13, 'dual infeasibility': 4.4488932650596466e-17, 'primal slack': 0.7487437540661077, 'dual slack': 1.438055707635192e-11, 'iterations': 8}\n"
     ]
    },
    {
     "data": {
      "image/png": "[encoded data removed]",
      "text/plain": [
       "<Figure size 720x576 with 2 Axes>"
      ]
     },
     "metadata": {},
     "output_type": "display_data"
    }
   ],
   "source": [
    "a= fit(X_train, y_train, gaussian_kernel, 100)\n",
    "ind = (a > 1e-4).flatten()\n",
    "sv = X_train[ind]\n",
    "sv_y = y_train[ind]\n",
    "alphas = a[ind]\n",
    "b = sv_y - np.sum(linear_kernel(sv, sv) * alphas * sv_y, axis=0)\n",
    "b = np.sum(b) / b.size\n",
    "\n",
    "predictions=[]\n",
    "for i in range(X_test.shape[0]):\n",
    "    prod=np.sum(linear_kernel(sv, X_test[i,:]).T * alphas * sv_y, axis=0) + b\n",
    "    predictions.append(np.sign(prod))\n",
    "from sklearn.metrics import confusion_matrix\n",
    "cm=confusion_matrix(y_test, predictions)\n",
    "df_cm = pd.DataFrame(cm, range(2), range(2))\n",
    "df_cm.columns=['benigno','maligno']\n",
    "from mpl_heatmap import heatmap, annotate_heatmap #Reciclo un mapa de calor ocupado por usted en una de sus clases \n",
    "fig, ax = plt.subplots(figsize=(10, 8))\n",
    "im, cbar = heatmap(\n",
    "    df_cm, # valores\n",
    "    df_cm.columns, # filas\n",
    "    df_cm.columns, # columnas\n",
    "    ax=ax, # ventana\n",
    "    cmap=plt.cm.Blues,  # gama de colores\n",
    "    #cbarlabel=\"indice\" # nombre barra de colores\n",
    ")\n",
    "texts = annotate_heatmap(im, valfmt=\"{x:.2f} \")\n",
    "fig.tight_layout()\n",
    "plt.title('Caso Kernel Gaussiano y regularización = 100')\n",
    "plt.show()"
   ]
  },
  {
   "cell_type": "markdown",
   "metadata": {},
   "source": [
    "# Tiempo de entrenamiento: \n",
    "\n",
    "Fabricamos Data artificial con 2500 nuevos casos por etiqueta"
   ]
  },
  {
   "cell_type": "code",
   "execution_count": 63,
   "metadata": {},
   "outputs": [],
   "source": [
    "df_copiado=df.copy()"
   ]
  },
  {
   "cell_type": "code",
   "execution_count": 64,
   "metadata": {},
   "outputs": [
    {
     "name": "stdout",
     "output_type": "stream",
     "text": [
      "Wall time: 8.19 s\n"
     ]
    }
   ],
   "source": [
    "%%time\n",
    "n_datos= 2500\n",
    "\n",
    "df_maligno = df_copiado[df_copiado[\"target\"]==1]\n",
    "for i in range(n_datos):\n",
    "    l=[]\n",
    "    for j in df_copiado.columns[:-1]:\n",
    "        l.append(random.uniform(df_maligno[j].min(), df_maligno[j].max()))\n",
    "    df.loc[i+569,:]= l+[1]"
   ]
  },
  {
   "cell_type": "code",
   "execution_count": 65,
   "metadata": {},
   "outputs": [
    {
     "name": "stdout",
     "output_type": "stream",
     "text": [
      "Wall time: 7.39 s\n"
     ]
    }
   ],
   "source": [
    "%%time\n",
    "n_datos= 2500\n",
    "n_datos_original_maligno=df.shape[0]\n",
    "df_benigno = df_copiado[df_copiado[\"target\"]==-1]\n",
    "for i in range(n_datos):\n",
    "    l=[]\n",
    "    for j in df_copiado.columns[:-1]:\n",
    "        l.append(random.uniform(df_benigno[j].min(), df_benigno[j].max()))\n",
    "    df.loc[i+n_datos_original_maligno,:]= l+[-1]"
   ]
  },
  {
   "cell_type": "code",
   "execution_count": 66,
   "metadata": {},
   "outputs": [
    {
     "ename": "FileNotFoundError",
     "evalue": "[Errno 2] No such file or directory: 'C:\\\\Users\\\\Mario\\\\python\\\\machine_learning\\\\cancer_artificial_equilibrado.csv'",
     "output_type": "error",
     "traceback": [
      "\u001b[1;31m---------------------------------------------------------------------------\u001b[0m",
      "\u001b[1;31mFileNotFoundError\u001b[0m                         Traceback (most recent call last)",
      "\u001b[1;32m<ipython-input-66-2a831520d0be>\u001b[0m in \u001b[0;36m<module>\u001b[1;34m\u001b[0m\n\u001b[1;32m----> 1\u001b[1;33m \u001b[0mdf\u001b[0m\u001b[1;33m.\u001b[0m\u001b[0mto_csv\u001b[0m\u001b[1;33m(\u001b[0m\u001b[1;34mr'C:\\Users\\Mario\\python\\machine_learning\\cancer_artificial_equilibrado.csv'\u001b[0m\u001b[1;33m,\u001b[0m \u001b[0mindex\u001b[0m \u001b[1;33m=\u001b[0m \u001b[1;32mFalse\u001b[0m\u001b[1;33m)\u001b[0m\u001b[1;33m\u001b[0m\u001b[1;33m\u001b[0m\u001b[0m\n\u001b[0m",
      "\u001b[1;32m~\\anaconda3\\lib\\site-packages\\pandas\\core\\generic.py\u001b[0m in \u001b[0;36mto_csv\u001b[1;34m(self, path_or_buf, sep, na_rep, float_format, columns, header, index, index_label, mode, encoding, compression, quoting, quotechar, line_terminator, chunksize, date_format, doublequote, escapechar, decimal, errors)\u001b[0m\n\u001b[0;32m   3168\u001b[0m             \u001b[0mdecimal\u001b[0m\u001b[1;33m=\u001b[0m\u001b[0mdecimal\u001b[0m\u001b[1;33m,\u001b[0m\u001b[1;33m\u001b[0m\u001b[1;33m\u001b[0m\u001b[0m\n\u001b[0;32m   3169\u001b[0m         )\n\u001b[1;32m-> 3170\u001b[1;33m         \u001b[0mformatter\u001b[0m\u001b[1;33m.\u001b[0m\u001b[0msave\u001b[0m\u001b[1;33m(\u001b[0m\u001b[1;33m)\u001b[0m\u001b[1;33m\u001b[0m\u001b[1;33m\u001b[0m\u001b[0m\n\u001b[0m\u001b[0;32m   3171\u001b[0m \u001b[1;33m\u001b[0m\u001b[0m\n\u001b[0;32m   3172\u001b[0m         \u001b[1;32mif\u001b[0m \u001b[0mpath_or_buf\u001b[0m \u001b[1;32mis\u001b[0m \u001b[1;32mNone\u001b[0m\u001b[1;33m:\u001b[0m\u001b[1;33m\u001b[0m\u001b[1;33m\u001b[0m\u001b[0m\n",
      "\u001b[1;32m~\\anaconda3\\lib\\site-packages\\pandas\\io\\formats\\csvs.py\u001b[0m in \u001b[0;36msave\u001b[1;34m(self)\u001b[0m\n\u001b[0;32m    183\u001b[0m             \u001b[0mclose\u001b[0m \u001b[1;33m=\u001b[0m \u001b[1;32mFalse\u001b[0m\u001b[1;33m\u001b[0m\u001b[1;33m\u001b[0m\u001b[0m\n\u001b[0;32m    184\u001b[0m         \u001b[1;32melse\u001b[0m\u001b[1;33m:\u001b[0m\u001b[1;33m\u001b[0m\u001b[1;33m\u001b[0m\u001b[0m\n\u001b[1;32m--> 185\u001b[1;33m             f, handles = get_handle(\n\u001b[0m\u001b[0;32m    186\u001b[0m                 \u001b[0mself\u001b[0m\u001b[1;33m.\u001b[0m\u001b[0mpath_or_buf\u001b[0m\u001b[1;33m,\u001b[0m\u001b[1;33m\u001b[0m\u001b[1;33m\u001b[0m\u001b[0m\n\u001b[0;32m    187\u001b[0m                 \u001b[0mself\u001b[0m\u001b[1;33m.\u001b[0m\u001b[0mmode\u001b[0m\u001b[1;33m,\u001b[0m\u001b[1;33m\u001b[0m\u001b[1;33m\u001b[0m\u001b[0m\n",
      "\u001b[1;32m~\\anaconda3\\lib\\site-packages\\pandas\\io\\common.py\u001b[0m in \u001b[0;36mget_handle\u001b[1;34m(path_or_buf, mode, encoding, compression, memory_map, is_text, errors)\u001b[0m\n\u001b[0;32m    491\u001b[0m         \u001b[1;32mif\u001b[0m \u001b[0mencoding\u001b[0m\u001b[1;33m:\u001b[0m\u001b[1;33m\u001b[0m\u001b[1;33m\u001b[0m\u001b[0m\n\u001b[0;32m    492\u001b[0m             \u001b[1;31m# Encoding\u001b[0m\u001b[1;33m\u001b[0m\u001b[1;33m\u001b[0m\u001b[1;33m\u001b[0m\u001b[0m\n\u001b[1;32m--> 493\u001b[1;33m             \u001b[0mf\u001b[0m \u001b[1;33m=\u001b[0m \u001b[0mopen\u001b[0m\u001b[1;33m(\u001b[0m\u001b[0mpath_or_buf\u001b[0m\u001b[1;33m,\u001b[0m \u001b[0mmode\u001b[0m\u001b[1;33m,\u001b[0m \u001b[0mencoding\u001b[0m\u001b[1;33m=\u001b[0m\u001b[0mencoding\u001b[0m\u001b[1;33m,\u001b[0m \u001b[0merrors\u001b[0m\u001b[1;33m=\u001b[0m\u001b[0merrors\u001b[0m\u001b[1;33m,\u001b[0m \u001b[0mnewline\u001b[0m\u001b[1;33m=\u001b[0m\u001b[1;34m\"\"\u001b[0m\u001b[1;33m)\u001b[0m\u001b[1;33m\u001b[0m\u001b[1;33m\u001b[0m\u001b[0m\n\u001b[0m\u001b[0;32m    494\u001b[0m         \u001b[1;32melif\u001b[0m \u001b[0mis_text\u001b[0m\u001b[1;33m:\u001b[0m\u001b[1;33m\u001b[0m\u001b[1;33m\u001b[0m\u001b[0m\n\u001b[0;32m    495\u001b[0m             \u001b[1;31m# No explicit encoding\u001b[0m\u001b[1;33m\u001b[0m\u001b[1;33m\u001b[0m\u001b[1;33m\u001b[0m\u001b[0m\n",
      "\u001b[1;31mFileNotFoundError\u001b[0m: [Errno 2] No such file or directory: 'C:\\\\Users\\\\Mario\\\\python\\\\machine_learning\\\\cancer_artificial_equilibrado.csv'"
     ]
    }
   ],
   "source": [
    "df.to_csv(r'C:\\Users\\Mario\\python\\machine_learning\\cancer_artificial_equilibrado.csv', index = False)"
   ]
  },
  {
   "cell_type": "code",
   "execution_count": null,
   "metadata": {},
   "outputs": [],
   "source": [
    "big_data= pd.read_csv(\"cancer_artificial_equilibrado.csv\")"
   ]
  },
  {
   "cell_type": "code",
   "execution_count": null,
   "metadata": {},
   "outputs": [],
   "source": [
    "big_data.shape"
   ]
  },
  {
   "cell_type": "code",
   "execution_count": null,
   "metadata": {},
   "outputs": [],
   "source": [
    "data = big_data.values\n",
    "ix = [i for i in range(data.shape[1]) if i != big_data.shape[1]-1]\n",
    "X, y = data[:, ix], data[:, big_data.shape[1]-1]\n"
   ]
  },
  {
   "cell_type": "markdown",
   "metadata": {},
   "source": [
    "Para un problema de dimensionalidad (5569, 31) el solver demora 13 minutos,en compilar en un pc con 16 gb de ram y procesador 3400g. Notar que estamos en presencia de 172639 datos.\n",
    "\n",
    "Antes habiamos generados una data de aprox (300.000,31) pero el algortimo no funcionaba por falta de memoria y asi fuimos probando hasta llegar a los 5000 datos. Por ejemplo con dimensionalidad (10.000,31) demoró aprox 1 hora."
   ]
  },
  {
   "cell_type": "code",
   "execution_count": null,
   "metadata": {},
   "outputs": [],
   "source": [
    "now = datetime.now()\n",
    "current_time = now.strftime(\"%H:%M:%S\")\n",
    "print(\"Inicio =\", current_time)\n",
    "\n",
    "a= fit(X, y, linear_kernel, 100)\n",
    "ind = (a > 1e-4).flatten()\n",
    "sv = X[ind]\n",
    "sv_y = y[ind]\n",
    "alphas = a[ind]\n",
    "\n",
    "now = datetime.now()\n",
    "current_time = now.strftime(\"%H:%M:%S\")\n",
    "print(\"Final =\", current_time)\n"
   ]
  }
 ],
 "metadata": {
  "kernelspec": {
   "display_name": "Python 3",
   "language": "python",
   "name": "python3"
  },
  "language_info": {
   "codemirror_mode": {
    "name": "ipython",
    "version": 3
   },
   "file_extension": ".py",
   "mimetype": "text/x-python",
   "name": "python",
   "nbconvert_exporter": "python",
   "pygments_lexer": "ipython3",
   "version": "3.8.5"
  }
 },
 "nbformat": 4,
 "nbformat_minor": 4
}
